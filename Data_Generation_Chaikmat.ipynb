{
  "nbformat": 4,
  "nbformat_minor": 0,
  "metadata": {
    "colab": {
      "provenance": []
    },
    "kernelspec": {
      "name": "python3",
      "display_name": "Python 3"
    },
    "language_info": {
      "name": "python"
    }
  },
  "cells": [
    {
      "cell_type": "code",
      "execution_count": 2,
      "metadata": {
        "id": "jxMuKvDpNg8d",
        "colab": {
          "base_uri": "https://localhost:8080/"
        },
        "outputId": "83ef3e96-fbb5-4be8-b8f8-01d266e9284e"
      },
      "outputs": [
        {
          "output_type": "stream",
          "name": "stdout",
          "text": [
            "Drive already mounted at /content/drive/; to attempt to forcibly remount, call drive.mount(\"/content/drive/\", force_remount=True).\n"
          ]
        }
      ],
      "source": [
        "import numpy as np\n",
        "import math as ma\n",
        "from math import pi as pi\n",
        "import math as ma\n",
        "from plotly import *\n",
        "import plotly\n",
        "import plotly.graph_objs as go\n",
        "import plotly.offline as py\n",
        "from random import randint\n",
        "from google.colab import files\n",
        "import pandas as pd\n",
        "import matplotlib.pyplot as plt\n",
        "from scipy import stats\n",
        "from io import BytesIO as sio\n",
        "from google.colab import drive\n",
        "import csv\n",
        "drive.mount('/content/drive/')"
      ]
    },
    {
      "cell_type": "code",
      "source": [
        "configuration_temp=[]\n",
        "configuration=[]\n",
        "for i in range(1,7):\n",
        "  configuration_temp.append(pd.read_csv('/content/drive/MyDrive/Data/Inputdata.csv',usecols=[i]).values.tolist()) \n",
        "configuration=np.reshape(np.array(configuration_temp),(len(configuration_temp),len(configuration_temp[0])))"
      ],
      "metadata": {
        "id": "HTC0SxAAQIuy"
      },
      "execution_count": 4,
      "outputs": []
    }
  ]
}